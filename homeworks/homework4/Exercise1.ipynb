{
 "cells": [
  {
   "cell_type": "markdown",
   "metadata": {},
   "source": [
    "# Homework 4 (Dev Mody)\n",
    "## Exercise 1 (Final Project Idea)\n",
    "\n",
    "Describe in 1 paragraph (or longer) what your final project will be about. (See also the posted handout about the Final Project). The intention of this exercise is to get you all started on thinking about your project. At the very minimum you can chose a dataset from http://archive.ics.uci.edu/ml/index.php or another repository and model and analyze it using some of the techniques used in the course. You’re welcome to go beyond that and look at techniques such as natural language processing, style transfer in image processing, etc.. As long as it is something that is clearly aligned with neural networks and machine learning it should be fine. The final project will count for 25% of the mark for the course. The point is to perform some independent work on a subject that you find interesting. For precise definitions of the rubric of what is expected for the final project see the accompanying handout. While it is natural to reuse code in many settings it will not be acceptable to simply submit a python notebook you have found on the internet. You should quote your sources and show\n",
    "your independent usage. It’s ok if you decide later on to switch to something else but you should start planning and thinking about your final project now.\n",
    "\n",
    "ANSWER: For my final project in Datasci 3ML3, I will explore the classification of celestial objects—stars, galaxies, and quasars, using the \"Stellar Classification Dataset - SDSS17\" from Kaggle (available at https://www.kaggle.com/datasets/fedesoriano/stellar-classification-dataset-sdss17), sourced from the Sloan Digital Sky Survey Data Release 17. My project will center on building a Convolutional Neural Network (CNN) to analyze spectral data and distinguish between these object types. This idea leverages my interest in astrophysics and aligns with the course’s focus on applying neural networks to meaningful problems. I’ll develop the CNN from scratch in Python, ensuring original work while citing any external resources, and present my findings in a Jupyter notebook. Though this is my starting point, I’m open to adjusting the plan as I progress."
   ]
  }
 ],
 "metadata": {
  "language_info": {
   "name": "python"
  }
 },
 "nbformat": 4,
 "nbformat_minor": 2
}
